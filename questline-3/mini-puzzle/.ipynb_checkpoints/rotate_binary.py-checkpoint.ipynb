{
 "cells": [
  {
   "cell_type": "code",
   "execution_count": 2,
   "id": "b4c19592",
   "metadata": {},
   "outputs": [
    {
     "name": "stdout",
     "output_type": "stream",
     "text": [
      "enter binary : 11110000\n",
      "enter k to be rotated:1\n",
      "Rotated binary: 01111000\n",
      "Decimal value: 120\n"
     ]
    }
   ],
   "source": [
    "def rot_bin(bnry_str, k):\n",
    "    for i in bnry_str:\n",
    "        k = k % len(bnry_str)\n",
    "        r= bnry_str[-k:] + bnry_str[:-k]\n",
    "        valu = int(r, 2)\n",
    "        return valu\n",
    "\n",
    "\n",
    "bnry=str(input(\"enter binary : \"))\n",
    "s = int(input(\"enter k to be rotated:\"))\n",
    "result = rot_bin(bnry, s)\n",
    "print(\"Rotated binary:\", bnry[-s:] + bnry[:-s])\n",
    "print(\"Decimal value:\", result)\n"
   ]
  },
  {
   "cell_type": "code",
   "execution_count": null,
   "id": "5eb60d4d",
   "metadata": {},
   "outputs": [],
   "source": []
  }
 ],
 "metadata": {
  "kernelspec": {
   "display_name": "Python 3 (ipykernel)",
   "language": "python",
   "name": "python3"
  },
  "language_info": {
   "codemirror_mode": {
    "name": "ipython",
    "version": 3
   },
   "file_extension": ".py",
   "mimetype": "text/x-python",
   "name": "python",
   "nbconvert_exporter": "python",
   "pygments_lexer": "ipython3",
   "version": "3.12.3"
  }
 },
 "nbformat": 4,
 "nbformat_minor": 5
}
